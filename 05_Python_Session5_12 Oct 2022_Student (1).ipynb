{
 "cells": [
  {
   "cell_type": "markdown",
   "id": "29d60b78",
   "metadata": {},
   "source": [
    "<img src=\"https://docs.google.com/uc?id=14xeXxFrVRjvOoUYWn_GuyE-v84wVzrqr\" class=\"img-fluid\" alt=\"CLRWY\" width=\"400\" height=\"200\">"
   ]
  },
  {
   "cell_type": "markdown",
   "id": "d87aeae5",
   "metadata": {},
   "source": [
    "<h1><p style=\"text-align: center; color:darkblue\">Python Session-05 <br>12 Oct 2022</p>"
   ]
  },
  {
   "cell_type": "markdown",
   "id": "2a056995",
   "metadata": {},
   "source": [
    "## <p style=\"background-color:#FDFEFE; font-family:newtimeroman; color:#4d77cf; font-size:150%; text-align:center; border-radius:10px 10px;\"><br><br>String Formatting with string.format() Method<br><br>String Formatting with f-string Method<br><br>Immutability<br><br>Searching & Changing & Editing a String<br><br>Collection Types (List & Creating a List)</p>"
   ]
  },
  {
   "cell_type": "markdown",
   "id": "a7d7cb0c",
   "metadata": {},
   "source": [
    "<a id=\"toc\"></a>\n",
    "\n",
    "## <p style=\"background-color:#9d4f8c; font-family:newtimeroman; color:#FFF9ED; font-size:175%; text-align:center; border-radius:10px 10px;\">String Formatting with string.format() Method</p>"
   ]
  },
  {
   "cell_type": "code",
   "execution_count": null,
   "id": "df7f7475",
   "metadata": {},
   "outputs": [],
   "source": [
    "\"metodlar\".format()"
   ]
  },
  {
   "cell_type": "code",
   "execution_count": 1,
   "id": "82e8f0f1",
   "metadata": {},
   "outputs": [],
   "source": [
    "saat = \"05:00\"\n",
    "yer = \"okul\"\n",
    "miktar = 3"
   ]
  },
  {
   "cell_type": "code",
   "execution_count": 4,
   "id": "6567d751",
   "metadata": {},
   "outputs": [
    {
     "data": {
      "text/plain": [
       "\"Ben sabah 05:00 de uyandım. okul'gittim. Gelirken de 3 kg. elma aldım.\""
      ]
     },
     "execution_count": 4,
     "metadata": {},
     "output_type": "execute_result"
    }
   ],
   "source": [
    "\"Ben sabah {} de uyandım. {}'gittim. Gelirken de {} kg. elma aldım.\".format(saat, yer, miktar)"
   ]
  },
  {
   "cell_type": "code",
   "execution_count": 5,
   "id": "5b80a631",
   "metadata": {},
   "outputs": [
    {
     "data": {
      "text/plain": [
       "\"Ben sabah 05:00 de uyandım. okul'gittim. Gelirken de 3 kg. elma aldım.\""
      ]
     },
     "execution_count": 5,
     "metadata": {},
     "output_type": "execute_result"
    }
   ],
   "source": [
    "\"Ben sabah {} de uyandım. {}'gittim. Gelirken de {} kg. elma aldım.\".format(\"05:00\", \"okul\", 3)"
   ]
  },
  {
   "cell_type": "code",
   "execution_count": 7,
   "id": "357d5a02",
   "metadata": {},
   "outputs": [
    {
     "data": {
      "text/plain": [
       "\"Ben sabah 06:30 de uyandım. kütüphane'gittim. Gelirken de 2 kg. elma aldım.\""
      ]
     },
     "execution_count": 7,
     "metadata": {},
     "output_type": "execute_result"
    }
   ],
   "source": [
    "\"Ben sabah {saat} de uyandım. {yer}'gittim. Gelirken de {miktar} kg. elma aldım.\".format(yer = \"kütüphane\", miktar = 2, saat = \"06:30\")"
   ]
  },
  {
   "cell_type": "code",
   "execution_count": 8,
   "id": "d9e71cb7",
   "metadata": {},
   "outputs": [
    {
     "data": {
      "text/plain": [
       "\"Ben sabah 06:30 de uyandım. kütüphane'gittim. Gelirken de 2 kg. elma aldım.\""
      ]
     },
     "execution_count": 8,
     "metadata": {},
     "output_type": "execute_result"
    }
   ],
   "source": [
    "\"Ben sabah {saat} de uyandım. {yer}'gittim. Gelirken de {miktar} kg. elma aldım.\".format(saat = \"06:30\", miktar = 2, yer = \"kütüphane\")"
   ]
  },
  {
   "cell_type": "code",
   "execution_count": 11,
   "id": "8411eb5e",
   "metadata": {},
   "outputs": [
    {
     "data": {
      "text/plain": [
       "\"Ben sabah 05:00 de uyandım. okul'gittim. Gelirken de 3 kg. elma aldım.\""
      ]
     },
     "execution_count": 11,
     "metadata": {},
     "output_type": "execute_result"
    }
   ],
   "source": [
    "\"Ben sabah {1} de uyandım. {0}'gittim. Gelirken de {2} kg. elma aldım.\".format(\"okul\", \"05:00\", 3)"
   ]
  },
  {
   "cell_type": "code",
   "execution_count": 12,
   "id": "1b579553",
   "metadata": {},
   "outputs": [
    {
     "data": {
      "text/plain": [
       "'Benim güzel öğrencilerimin maşallahı var mı acaba?'"
      ]
     },
     "execution_count": 12,
     "metadata": {},
     "output_type": "execute_result"
    }
   ],
   "source": [
    "\"Benim {} öğrencilerimin maşallahı var {}\".format(\"güzel\", \"mı acaba?\")"
   ]
  },
  {
   "cell_type": "code",
   "execution_count": 13,
   "id": "b0d0b34a",
   "metadata": {},
   "outputs": [
    {
     "data": {
      "text/plain": [
       "'Benim güzel öğrencilerimin maşallahı var mı acaba?'"
      ]
     },
     "execution_count": 13,
     "metadata": {},
     "output_type": "execute_result"
    }
   ],
   "source": [
    "x = \"güzel\"\n",
    "y = \"mı acaba?\"\n",
    "\n",
    "\"Benim {} öğrencilerimin maşallahı var {}\".format(x, y)"
   ]
  },
  {
   "cell_type": "code",
   "execution_count": 14,
   "id": "d11c358d",
   "metadata": {},
   "outputs": [],
   "source": [
    "stringim = \"Benim {} öğrencilerimin maşallahı var {}\""
   ]
  },
  {
   "cell_type": "code",
   "execution_count": 15,
   "id": "36b850db",
   "metadata": {},
   "outputs": [
    {
     "data": {
      "text/plain": [
       "'Benim güzel öğrencilerimin maşallahı var mı acaba?'"
      ]
     },
     "execution_count": 15,
     "metadata": {},
     "output_type": "execute_result"
    }
   ],
   "source": [
    "stringim.format(x, y)"
   ]
  },
  {
   "cell_type": "code",
   "execution_count": null,
   "id": "199590f5",
   "metadata": {},
   "outputs": [],
   "source": [
    "\"abc\"."
   ]
  },
  {
   "cell_type": "code",
   "execution_count": null,
   "id": "41c4d5df",
   "metadata": {},
   "outputs": [],
   "source": [
    "[\"abc\", 5]."
   ]
  },
  {
   "cell_type": "code",
   "execution_count": 16,
   "id": "3ba9a62c",
   "metadata": {},
   "outputs": [
    {
     "name": "stdout",
     "output_type": "stream",
     "text": [
      "Generosity wins in all circumstances\n"
     ]
    }
   ],
   "source": [
    "phrase = \"{morality} {1} {0} {condition}\".format(\"in all\", \"wins\", morality = \"Generosity\", condition = \"circumstances\")\n",
    "\n",
    "print(phrase)"
   ]
  },
  {
   "cell_type": "code",
   "execution_count": 17,
   "id": "2e6693b1",
   "metadata": {},
   "outputs": [
    {
     "ename": "SyntaxError",
     "evalue": "positional argument follows keyword argument (363345641.py, line 1)",
     "output_type": "error",
     "traceback": [
      "\u001b[1;36m  Input \u001b[1;32mIn [17]\u001b[1;36m\u001b[0m\n\u001b[1;33m    phrase = \"{moral} {1} {0} {cond}\".format(moral =  \"Generosity\", cond =  \"circumstances\", \"in all\", \"wins\",)\u001b[0m\n\u001b[1;37m                                                                                                              ^\u001b[0m\n\u001b[1;31mSyntaxError\u001b[0m\u001b[1;31m:\u001b[0m positional argument follows keyword argument\n"
     ]
    }
   ],
   "source": [
    "phrase = \"{moral} {1} {0} {cond}\".format(moral =  \"Generosity\", cond =  \"circumstances\", \"in all\", \"wins\",)\n",
    "\n",
    "print(phrase)\n",
    "\n",
    "# hata koduna dikkat!! (positional argument follows keyword argument)"
   ]
  },
  {
   "cell_type": "code",
   "execution_count": 20,
   "id": "204fa86f",
   "metadata": {},
   "outputs": [
    {
     "name": "stdout",
     "output_type": "stream",
     "text": [
      "The sum of 3 + 7 is = 10\n"
     ]
    }
   ],
   "source": [
    "a = 3\n",
    "b = 7\n",
    "\n",
    "print(\"The sum of {} + {} is = {}\".format(a, b, a + b))"
   ]
  },
  {
   "cell_type": "code",
   "execution_count": 21,
   "id": "b9f5c06e",
   "metadata": {},
   "outputs": [
    {
     "name": "stdout",
     "output_type": "stream",
     "text": [
      "The sum of 3 * 7 is = 21\n"
     ]
    }
   ],
   "source": [
    "a = 3\n",
    "b = 7\n",
    "\n",
    "print(\"The sum of {} * {} is = {}\".format(a, b, a * b))"
   ]
  },
  {
   "cell_type": "code",
   "execution_count": 22,
   "id": "f480705f",
   "metadata": {},
   "outputs": [
    {
     "name": "stdout",
     "output_type": "stream",
     "text": [
      "The sum of 2 ** 3 is = 8\n"
     ]
    }
   ],
   "source": [
    "a = 2\n",
    "b = 3\n",
    "\n",
    "print(\"The sum of {} ** {} is = {}\".format(a, b, a ** b))"
   ]
  },
  {
   "cell_type": "markdown",
   "id": "59607ecb",
   "metadata": {},
   "source": [
    "<a id=\"toc\"></a>\n",
    "\n",
    "## <p style=\"background-color:#9d4f8c; font-family:newtimeroman; color:#FFF9ED; font-size:175%; text-align:center; border-radius:10px 10px;\">String Formatting with f-string Method</p>"
   ]
  },
  {
   "cell_type": "code",
   "execution_count": 23,
   "id": "9f64b5cb",
   "metadata": {},
   "outputs": [
    {
     "name": "stdout",
     "output_type": "stream",
     "text": [
      "Mariam\n"
     ]
    }
   ],
   "source": [
    "my_name = \"mariam\"\n",
    "\n",
    "my_name = my_name.capitalize()\n",
    "\n",
    "print(my_name)"
   ]
  },
  {
   "cell_type": "code",
   "execution_count": 24,
   "id": "7b5d3db0",
   "metadata": {},
   "outputs": [
    {
     "name": "stdout",
     "output_type": "stream",
     "text": [
      "My name is Mariam\n"
     ]
    }
   ],
   "source": [
    "output = f\"My name is {my_name}\"\n",
    "print(output)"
   ]
  },
  {
   "cell_type": "code",
   "execution_count": 25,
   "id": "accffc8f",
   "metadata": {},
   "outputs": [
    {
     "name": "stdout",
     "output_type": "stream",
     "text": [
      "My name is MARIAM\n"
     ]
    }
   ],
   "source": [
    "print(f\"My name is {my_name.upper()}\")"
   ]
  },
  {
   "cell_type": "code",
   "execution_count": 26,
   "id": "d09ebb7e",
   "metadata": {},
   "outputs": [
    {
     "data": {
      "text/plain": [
       "'Hi Edwin. Are you ill?'"
      ]
     },
     "execution_count": 26,
     "metadata": {},
     "output_type": "execute_result"
    }
   ],
   "source": [
    "name = \"Edwin\"\n",
    "status = \"ill\"\n",
    "\n",
    "message = f\"Hi {name}. Are you {status}?\"\n",
    "message"
   ]
  },
  {
   "cell_type": "code",
   "execution_count": 29,
   "id": "10b0704b",
   "metadata": {},
   "outputs": [
    {
     "data": {
      "text/plain": [
       "'hiEdwin. Are youill?'"
      ]
     },
     "execution_count": 29,
     "metadata": {},
     "output_type": "execute_result"
    }
   ],
   "source": [
    "message = f\"hi\\\n",
    "{name}. \\\n",
    "Are you\\\n",
    "{status}?\"\n",
    "\n",
    "message"
   ]
  },
  {
   "cell_type": "code",
   "execution_count": 30,
   "id": "5c1dda3b",
   "metadata": {},
   "outputs": [
    {
     "name": "stdout",
     "output_type": "stream",
     "text": [
      "Hi Edwin. Are you ill?\n"
     ]
    }
   ],
   "source": [
    "message = (\n",
    "    f\"Hi {name}. \"\n",
    "    f\"Are you {status}?\"\n",
    ")\n",
    "\n",
    "print(message)"
   ]
  },
  {
   "cell_type": "markdown",
   "id": "3321670c",
   "metadata": {},
   "source": [
    "<a id=\"toc\"></a>\n",
    "\n",
    "## <p style=\"background-color:#9d4f8c; font-family:newtimeroman; color:#FFF9ED; font-size:175%; text-align:center; border-radius:10px 10px;\">Immutability</p>"
   ]
  },
  {
   "cell_type": "code",
   "execution_count": 31,
   "id": "87b3ae72",
   "metadata": {},
   "outputs": [],
   "source": [
    "isim = \"ALİ veli\""
   ]
  },
  {
   "cell_type": "code",
   "execution_count": 32,
   "id": "013717b0",
   "metadata": {},
   "outputs": [
    {
     "data": {
      "text/plain": [
       "'ali̇ VELI'"
      ]
     },
     "execution_count": 32,
     "metadata": {},
     "output_type": "execute_result"
    }
   ],
   "source": [
    "isim.swapcase()"
   ]
  },
  {
   "cell_type": "code",
   "execution_count": 33,
   "id": "7d75c756",
   "metadata": {},
   "outputs": [
    {
     "name": "stdout",
     "output_type": "stream",
     "text": [
      "ALİ veli\n"
     ]
    }
   ],
   "source": [
    "print(isim)"
   ]
  },
  {
   "cell_type": "code",
   "execution_count": 34,
   "id": "9bb436af",
   "metadata": {},
   "outputs": [],
   "source": [
    "soyisim = \"Davis\""
   ]
  },
  {
   "cell_type": "code",
   "execution_count": 35,
   "id": "26bf7cd7",
   "metadata": {},
   "outputs": [
    {
     "data": {
      "text/plain": [
       "'dAVIS'"
      ]
     },
     "execution_count": 35,
     "metadata": {},
     "output_type": "execute_result"
    }
   ],
   "source": [
    "soy = soyisim.swapcase()\n",
    "\n",
    "soy"
   ]
  },
  {
   "cell_type": "code",
   "execution_count": null,
   "id": "5aa08958",
   "metadata": {},
   "outputs": [],
   "source": [
    "email = \"clarusway@clarusway.com is my e-mail address\" \n",
    "email.startswith(\"@\", 9)\n",
    "\n",
    "# sadece stringin 9. indeksine bak. orada belirtilen karakter var mı?"
   ]
  },
  {
   "cell_type": "code",
   "execution_count": null,
   "id": "1697d3f1",
   "metadata": {},
   "outputs": [],
   "source": [
    "email.endswith(\"-\", 10, 32)\n",
    "\n",
    "# stringin içinde 10. indeks ile başlayan 32. indekse kadar olan bölümde endswith'i uyguladık. \n",
    "# stringin bu bölümünün sonunda \"-\" karakteri var mı?"
   ]
  },
  {
   "cell_type": "code",
   "execution_count": null,
   "id": "473f3315",
   "metadata": {},
   "outputs": [],
   "source": []
  },
  {
   "cell_type": "markdown",
   "id": "94db6962",
   "metadata": {},
   "source": [
    "<a id=\"toc\"></a>\n",
    "\n",
    "## <p style=\"background-color:#9d4f8c; font-family:newtimeroman; color:#FFF9ED; font-size:175%; text-align:center; border-radius:10px 10px;\">Searching & Changing & Editing a String</p>"
   ]
  },
  {
   "cell_type": "code",
   "execution_count": null,
   "id": "a964a0c4",
   "metadata": {},
   "outputs": [],
   "source": []
  },
  {
   "cell_type": "code",
   "execution_count": null,
   "id": "ae65d9fc",
   "metadata": {},
   "outputs": [],
   "source": []
  },
  {
   "cell_type": "code",
   "execution_count": null,
   "id": "d540c05e",
   "metadata": {},
   "outputs": [],
   "source": []
  },
  {
   "cell_type": "markdown",
   "id": "a4680b30",
   "metadata": {},
   "source": [
    "<a id=\"toc\"></a>\n",
    "\n",
    "## <p style=\"background-color:#9d4f8c; font-family:newtimeroman; color:#FFF9ED; font-size:175%; text-align:center; border-radius:10px 10px;\">Collection Types (List & Creating a List)</p>"
   ]
  },
  {
   "cell_type": "code",
   "execution_count": null,
   "id": "4e71fd23",
   "metadata": {},
   "outputs": [],
   "source": []
  },
  {
   "cell_type": "code",
   "execution_count": null,
   "id": "aeb120d1",
   "metadata": {},
   "outputs": [],
   "source": []
  },
  {
   "cell_type": "code",
   "execution_count": null,
   "id": "092e2765",
   "metadata": {},
   "outputs": [],
   "source": []
  },
  {
   "cell_type": "code",
   "execution_count": null,
   "id": "846b182e",
   "metadata": {},
   "outputs": [],
   "source": []
  },
  {
   "cell_type": "markdown",
   "id": "937c7c82",
   "metadata": {},
   "source": [
    "<img src=\"https://docs.google.com/uc?id=14xeXxFrVRjvOoUYWn_GuyE-v84wVzrqr\" class=\"img-fluid\" alt=\"CLRWY\" width=\"400\" height=\"200\">"
   ]
  }
 ],
 "metadata": {
  "kernelspec": {
   "display_name": "Python 3 (ipykernel)",
   "language": "python",
   "name": "python3"
  },
  "language_info": {
   "codemirror_mode": {
    "name": "ipython",
    "version": 3
   },
   "file_extension": ".py",
   "mimetype": "text/x-python",
   "name": "python",
   "nbconvert_exporter": "python",
   "pygments_lexer": "ipython3",
   "version": "3.9.11"
  }
 },
 "nbformat": 4,
 "nbformat_minor": 5
}
